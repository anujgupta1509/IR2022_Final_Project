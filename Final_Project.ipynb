{
  "nbformat": 4,
  "nbformat_minor": 0,
  "metadata": {
    "colab": {
      "name": "Final_Project.ipynb",
      "provenance": []
    },
    "kernelspec": {
      "name": "python3",
      "display_name": "Python 3"
    },
    "language_info": {
      "name": "python"
    }
  },
  "cells": [
    {
      "cell_type": "code",
      "source": [
        "pip install newspaper3k\n"
      ],
      "metadata": {
        "colab": {
          "base_uri": "https://localhost:8080/"
        },
        "id": "wyjFP5qOLFgu",
        "outputId": "08bddffc-c6fc-4b28-f244-406508909591"
      },
      "execution_count": 2,
      "outputs": [
        {
          "output_type": "stream",
          "name": "stdout",
          "text": [
            "Collecting newspaper3k\n",
            "  Downloading newspaper3k-0.2.8-py3-none-any.whl (211 kB)\n",
            "\u001b[?25l\r\u001b[K     |█▌                              | 10 kB 21.7 MB/s eta 0:00:01\r\u001b[K     |███                             | 20 kB 17.9 MB/s eta 0:00:01\r\u001b[K     |████▋                           | 30 kB 11.4 MB/s eta 0:00:01\r\u001b[K     |██████▏                         | 40 kB 9.8 MB/s eta 0:00:01\r\u001b[K     |███████▊                        | 51 kB 4.5 MB/s eta 0:00:01\r\u001b[K     |█████████▎                      | 61 kB 5.2 MB/s eta 0:00:01\r\u001b[K     |██████████▉                     | 71 kB 5.6 MB/s eta 0:00:01\r\u001b[K     |████████████▍                   | 81 kB 5.8 MB/s eta 0:00:01\r\u001b[K     |██████████████                  | 92 kB 6.4 MB/s eta 0:00:01\r\u001b[K     |███████████████▌                | 102 kB 5.1 MB/s eta 0:00:01\r\u001b[K     |█████████████████               | 112 kB 5.1 MB/s eta 0:00:01\r\u001b[K     |██████████████████▋             | 122 kB 5.1 MB/s eta 0:00:01\r\u001b[K     |████████████████████▏           | 133 kB 5.1 MB/s eta 0:00:01\r\u001b[K     |█████████████████████▊          | 143 kB 5.1 MB/s eta 0:00:01\r\u001b[K     |███████████████████████▎        | 153 kB 5.1 MB/s eta 0:00:01\r\u001b[K     |████████████████████████▉       | 163 kB 5.1 MB/s eta 0:00:01\r\u001b[K     |██████████████████████████▍     | 174 kB 5.1 MB/s eta 0:00:01\r\u001b[K     |████████████████████████████    | 184 kB 5.1 MB/s eta 0:00:01\r\u001b[K     |█████████████████████████████▌  | 194 kB 5.1 MB/s eta 0:00:01\r\u001b[K     |███████████████████████████████ | 204 kB 5.1 MB/s eta 0:00:01\r\u001b[K     |████████████████████████████████| 211 kB 5.1 MB/s \n",
            "\u001b[?25hRequirement already satisfied: lxml>=3.6.0 in /usr/local/lib/python3.7/dist-packages (from newspaper3k) (4.2.6)\n",
            "Requirement already satisfied: nltk>=3.2.1 in /usr/local/lib/python3.7/dist-packages (from newspaper3k) (3.2.5)\n",
            "Collecting cssselect>=0.9.2\n",
            "  Downloading cssselect-1.1.0-py2.py3-none-any.whl (16 kB)\n",
            "Requirement already satisfied: requests>=2.10.0 in /usr/local/lib/python3.7/dist-packages (from newspaper3k) (2.23.0)\n",
            "Requirement already satisfied: Pillow>=3.3.0 in /usr/local/lib/python3.7/dist-packages (from newspaper3k) (7.1.2)\n",
            "Collecting feedparser>=5.2.1\n",
            "  Downloading feedparser-6.0.8-py3-none-any.whl (81 kB)\n",
            "\u001b[K     |████████████████████████████████| 81 kB 8.9 MB/s \n",
            "\u001b[?25hCollecting feedfinder2>=0.0.4\n",
            "  Downloading feedfinder2-0.0.4.tar.gz (3.3 kB)\n",
            "Requirement already satisfied: python-dateutil>=2.5.3 in /usr/local/lib/python3.7/dist-packages (from newspaper3k) (2.8.2)\n",
            "Collecting tinysegmenter==0.3\n",
            "  Downloading tinysegmenter-0.3.tar.gz (16 kB)\n",
            "Collecting tldextract>=2.0.1\n",
            "  Downloading tldextract-3.2.1-py3-none-any.whl (87 kB)\n",
            "\u001b[K     |████████████████████████████████| 87 kB 5.4 MB/s \n",
            "\u001b[?25hRequirement already satisfied: beautifulsoup4>=4.4.1 in /usr/local/lib/python3.7/dist-packages (from newspaper3k) (4.6.3)\n",
            "Collecting jieba3k>=0.35.1\n",
            "  Downloading jieba3k-0.35.1.zip (7.4 MB)\n",
            "\u001b[K     |████████████████████████████████| 7.4 MB 65.1 MB/s \n",
            "\u001b[?25hRequirement already satisfied: PyYAML>=3.11 in /usr/local/lib/python3.7/dist-packages (from newspaper3k) (3.13)\n",
            "Requirement already satisfied: six in /usr/local/lib/python3.7/dist-packages (from feedfinder2>=0.0.4->newspaper3k) (1.15.0)\n",
            "Collecting sgmllib3k\n",
            "  Downloading sgmllib3k-1.0.0.tar.gz (5.8 kB)\n",
            "Requirement already satisfied: certifi>=2017.4.17 in /usr/local/lib/python3.7/dist-packages (from requests>=2.10.0->newspaper3k) (2021.10.8)\n",
            "Requirement already satisfied: chardet<4,>=3.0.2 in /usr/local/lib/python3.7/dist-packages (from requests>=2.10.0->newspaper3k) (3.0.4)\n",
            "Requirement already satisfied: idna<3,>=2.5 in /usr/local/lib/python3.7/dist-packages (from requests>=2.10.0->newspaper3k) (2.10)\n",
            "Requirement already satisfied: urllib3!=1.25.0,!=1.25.1,<1.26,>=1.21.1 in /usr/local/lib/python3.7/dist-packages (from requests>=2.10.0->newspaper3k) (1.24.3)\n",
            "Requirement already satisfied: filelock>=3.0.8 in /usr/local/lib/python3.7/dist-packages (from tldextract>=2.0.1->newspaper3k) (3.6.0)\n",
            "Collecting requests-file>=1.4\n",
            "  Downloading requests_file-1.5.1-py2.py3-none-any.whl (3.7 kB)\n",
            "Building wheels for collected packages: tinysegmenter, feedfinder2, jieba3k, sgmllib3k\n",
            "  Building wheel for tinysegmenter (setup.py) ... \u001b[?25l\u001b[?25hdone\n",
            "  Created wheel for tinysegmenter: filename=tinysegmenter-0.3-py3-none-any.whl size=13553 sha256=6787cf76c19f6cdececddf6dbb3d09f21503ab61e3ea006411413374ba1efe82\n",
            "  Stored in directory: /root/.cache/pip/wheels/df/67/41/faca10fa501ca010be41b49d40360c2959e1c4f09bcbfa37fa\n",
            "  Building wheel for feedfinder2 (setup.py) ... \u001b[?25l\u001b[?25hdone\n",
            "  Created wheel for feedfinder2: filename=feedfinder2-0.0.4-py3-none-any.whl size=3357 sha256=032dc8ca3e78f46e76963de3de9eaa7cd652e96353038a4a6f277c88227bac52\n",
            "  Stored in directory: /root/.cache/pip/wheels/7f/d4/8f/6e2ca54744c9d7292d88ddb8d42876bcdab5e6d84a21c10346\n",
            "  Building wheel for jieba3k (setup.py) ... \u001b[?25l\u001b[?25hdone\n",
            "  Created wheel for jieba3k: filename=jieba3k-0.35.1-py3-none-any.whl size=7398404 sha256=b579b887b2742e5899b729463afe03142fe1e15297dd2af7bb70e840363dfa38\n",
            "  Stored in directory: /root/.cache/pip/wheels/4c/91/46/3c208287b726df325a5979574324878b679116e4baae1af3c3\n",
            "  Building wheel for sgmllib3k (setup.py) ... \u001b[?25l\u001b[?25hdone\n",
            "  Created wheel for sgmllib3k: filename=sgmllib3k-1.0.0-py3-none-any.whl size=6066 sha256=241afff3f0e4b0bfdee2bf7f29f9bf82125f413e9727ed58cf603b6937515f70\n",
            "  Stored in directory: /root/.cache/pip/wheels/73/ad/a4/0dff4a6ef231fc0dfa12ffbac2a36cebfdddfe059f50e019aa\n",
            "Successfully built tinysegmenter feedfinder2 jieba3k sgmllib3k\n",
            "Installing collected packages: sgmllib3k, requests-file, tldextract, tinysegmenter, jieba3k, feedparser, feedfinder2, cssselect, newspaper3k\n",
            "Successfully installed cssselect-1.1.0 feedfinder2-0.0.4 feedparser-6.0.8 jieba3k-0.35.1 newspaper3k-0.2.8 requests-file-1.5.1 sgmllib3k-1.0.0 tinysegmenter-0.3 tldextract-3.2.1\n"
          ]
        }
      ]
    },
    {
      "cell_type": "code",
      "execution_count": 3,
      "metadata": {
        "id": "YtUj5W4sKoxj"
      },
      "outputs": [],
      "source": [
        "from newspaper import Article\n",
        "\n",
        "url = 'https://www.sciencedaily.com/releases/2021/08/210811162816.htm'\n",
        "article = Article(url)\n",
        "article.download()\n",
        "article.parse()"
      ]
    },
    {
      "cell_type": "code",
      "source": [
        "article.text "
      ],
      "metadata": {
        "colab": {
          "base_uri": "https://localhost:8080/",
          "height": 678
        },
        "id": "ecHNFncOLKif",
        "outputId": "ef639c58-5428-4cdd-c645-377c33c4cd08"
      },
      "execution_count": 4,
      "outputs": [
        {
          "output_type": "execute_result",
          "data": {
            "text/plain": [
              "'It is increasingly clear that the prolonged drought conditions, record-breaking heat, sustained wildfires, and frequent, more extreme storms experienced in recent years are a direct result of rising global temperatures brought on by humans\\' addition of carbon dioxide to the atmosphere. And a new MIT study on extreme climate events in Earth\\'s ancient history suggests that today\\'s planet may become more volatile as it continues to warm.\\n\\nThe study, appearing today in Science Advances, examines the paleoclimate record of the last 66 million years, during the Cenozoic era, which began shortly after the extinction of the dinosaurs. The scientists found that during this period, fluctuations in the Earth\\'s climate experienced a surprising \"warming bias.\" In other words, there were far more warming events -- periods of prolonged global warming, lasting thousands to tens of thousands of years -- than cooling events. What\\'s more, warming events tended to be more extreme, with greater shifts in temperature, than cooling events.\\n\\nThe researchers say a possible explanation for this warming bias may lie in a \"multiplier effect,\" whereby a modest degree of warming -- for instance from volcanoes releasing carbon dioxide into the atmosphere -- naturally speeds up certain biological and chemical processes that enhance these fluctuations, leading, on average, to still more warming.\\n\\nInterestingly, the team observed that this warming bias disappeared about 5 million years ago, around the time when ice sheets started forming in the Northern Hemisphere. It\\'s unclear what effect the ice has had on the Earth\\'s response to climate shifts. But as today\\'s Arctic ice recedes, the new study suggests that a multiplier effect may kick back in, and the result may be a further amplification of human-induced global warming.\\n\\n\"The Northern Hemisphere\\'s ice sheets are shrinking, and could potentially disappear as a long-term consequence of human actions\" says the study\\'s lead author Constantin Arnscheidt, a graduate student in MIT\\'s Department of Earth, Atmospheric and Planetary Sciences. \"Our research suggests that this may make the Earth\\'s climate fundamentally more susceptible to extreme, long-term global warming events such as those seen in the geologic past.\"\\n\\nArnscheidt\\'s study co-author is Daniel Rothman, professor of geophysics at MIT, and co-founder and co-director of MIT\\'s Lorenz Center.\\n\\nadvertisement\\n\\nA volatile push\\n\\nFor their analysis, the team consulted large databases of sediments containing deep-sea benthic foraminifera -- single-celled organisms that have been around for hundreds of millions of years and whose hard shells are preserved in sediments. The composition of these shells is affected by the ocean temperatures as organisms are growing; the shells are therefore considered a reliable proxy for the Earth\\'s ancient temperatures.\\n\\nFor decades, scientists have analyzed the composition of these shells, collected from all over the world and dated to various time periods, to track how the Earth\\'s temperature has fluctuated over millions of years.\\n\\n\"When using these data to study extreme climate events, most studies have focused on individual large spikes in temperature, typically of a few degrees Celsius warming,\" Arnscheidt says. \"Instead, we tried to look at the overall statistics and consider all the fluctuations involved, rather than picking out the big ones.\"\\n\\nThe team first carried out a statistical analysis of the data and observed that, over the last 66 million years, the distribution of global temperature fluctuations didn\\'t resemble a standard bell curve, with symmetric tails representing an equal probability of extreme warm and extreme cool fluctuations. Instead, the curve was noticeably lopsided, skewed toward more warm than cool events. The curve also exhibited a noticeably longer tail, representing warm events that were more extreme, or of higher temperature, than the most extreme cold events.\\n\\nadvertisement\\n\\n\"This indicates there\\'s some sort of amplification relative to what you would otherwise have expected,\" Arnscheidt says. \"Everything\\'s pointing to something fundamental that\\'s causing this push, or bias toward warming events.\"\\n\\n\"It\\'s fair to say that the Earth system becomes more volatile, in a warming sense,\" Rothman adds.\\n\\nA warming multiplier\\n\\nThe team wondered whether this warming bias might have been a result of \"multiplicative noise\" in the climate-carbon cycle. Scientists have long understood that higher temperatures, up to a point, tend to speed up biological and chemical processes. Because the carbon cycle, which is a key driver of long-term climate fluctuations, is itself composed of such processes, increases in temperature may lead to larger fluctuations, biasing the system towards extreme warming events.\\n\\nIn mathematics, there exists a set of equations that describes such general amplifying, or multiplicative effects. The researchers applied this multiplicative theory to their analysis to see whether the equations could predict the asymmetrical distribution, including the degree of its skew and the length of its tails.\\n\\nIn the end, they found that the data, and the observed bias toward warming, could be explained by the multiplicative theory. In other words, it\\'s very likely that, over the last 66 million years, periods of modest warming were on average further enhanced by multiplier effects, such as the response of biological and chemical processes that further warmed the planet.\\n\\nAs part of the study, the researchers also looked at the correlation between past warming events and changes in Earth\\'s orbit. Over hundreds of thousands of years, Earth\\'s orbit around the sun regularly becomes more or less elliptical. But scientists have wondered why many past warming events appeared to coincide with these changes, and why these events feature outsized warming compared with what the change in Earth\\'s orbit could have wrought on its own.\\n\\nSo, Arnscheidt and Rothman incorporated the Earth\\'s orbital changes into the multiplicative model and their analysis of Earth\\'s temperature changes, and found that multiplier effects could predictably amplify, on average, the modest temperature rises due to changes in Earth\\'s orbit.\\n\\n\"Climate warms and cools in synchrony with orbital changes, but the orbital cycles themselves would predict only modest changes in climate,\" Rothman says. \"But if we consider a multiplicative model, then modest warming, paired with this multiplier effect, can result in extreme events that tend to occur at the same time as these orbital changes.\"\\n\\n\"Humans are forcing the system in a new way,\" Arnscheidt adds. \"And this study is showing that, when we increase temperature, we\\'re likely going to interact with these natural, amplifying effects.\"\\n\\nThis research was supported, in part, by MIT\\'s School of Science.'"
            ],
            "application/vnd.google.colaboratory.intrinsic+json": {
              "type": "string"
            }
          },
          "metadata": {},
          "execution_count": 4
        }
      ]
    },
    {
      "cell_type": "code",
      "source": [
        "import spacy\n",
        "from spacy.lang.en.stop_words import STOP_WORDS\n",
        "from string import punctuation\n",
        "from heapq import nlargest"
      ],
      "metadata": {
        "id": "VdtP2LSbLMrG"
      },
      "execution_count": 5,
      "outputs": []
    },
    {
      "cell_type": "code",
      "source": [
        "def summarize(text, per):\n",
        "    nlp = spacy.load('en_core_web_sm')\n",
        "    doc= nlp(text)\n",
        "    tokens=[token.text for token in doc]\n",
        "    word_frequencies={}\n",
        "    for word in doc:\n",
        "        if word.text.lower() not in list(STOP_WORDS):\n",
        "            if word.text.lower() not in punctuation:\n",
        "                if word.text not in word_frequencies.keys():\n",
        "                    word_frequencies[word.text] = 1\n",
        "                else:\n",
        "                    word_frequencies[word.text] += 1\n",
        "    max_frequency=max(word_frequencies.values())\n",
        "    for word in word_frequencies.keys():\n",
        "        word_frequencies[word]=word_frequencies[word]/max_frequency\n",
        "    sentence_tokens= [sent for sent in doc.sents]\n",
        "    sentence_scores = {}\n",
        "    for sent in sentence_tokens:\n",
        "        for word in sent:\n",
        "            if word.text.lower() in word_frequencies.keys():\n",
        "                if sent not in sentence_scores.keys():                            \n",
        "                    sentence_scores[sent]=word_frequencies[word.text.lower()]\n",
        "                else:\n",
        "                    sentence_scores[sent]+=word_frequencies[word.text.lower()]\n",
        "    select_length=int(len(sentence_tokens)*per)\n",
        "    summary=nlargest(select_length, sentence_scores,key=sentence_scores.get)\n",
        "    final_summary=[word.text for word in summary]\n",
        "    summary=''.join(final_summary)\n",
        "    return summary "
      ],
      "metadata": {
        "id": "j3SHqOrOLQBt"
      },
      "execution_count": 6,
      "outputs": []
    },
    {
      "cell_type": "code",
      "source": [
        "summarize(article.text, 0.05)"
      ],
      "metadata": {
        "colab": {
          "base_uri": "https://localhost:8080/",
          "height": 88
        },
        "id": "PSE5oklRLUfe",
        "outputId": "c061241d-eeae-4d7a-f423-9a21f7393ca2"
      },
      "execution_count": 7,
      "outputs": [
        {
          "output_type": "execute_result",
          "data": {
            "text/plain": [
              "'The researchers say a possible explanation for this warming bias may lie in a \"multiplier effect,\" whereby a modest degree of warming -- for instance from volcanoes releasing carbon dioxide into the atmosphere -- naturally speeds up certain biological and chemical processes that enhance these fluctuations, leading, on average, to still more warming.\\n\\nBecause the carbon cycle, which is a key driver of long-term climate fluctuations, is itself composed of such processes, increases in temperature may lead to larger fluctuations, biasing the system towards extreme warming events.\\n\\n'"
            ],
            "application/vnd.google.colaboratory.intrinsic+json": {
              "type": "string"
            }
          },
          "metadata": {},
          "execution_count": 7
        }
      ]
    }
  ]
}